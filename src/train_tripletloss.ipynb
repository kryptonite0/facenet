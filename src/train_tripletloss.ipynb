{
 "cells": [
  {
   "cell_type": "code",
   "execution_count": 1,
   "metadata": {},
   "outputs": [
    {
     "name": "stdout",
     "output_type": "stream",
     "text": [
      "Tensorflow version:  1.14.0\n",
      "Pandas version:  0.25.0\n"
     ]
    }
   ],
   "source": [
    "%reload_ext autoreload\n",
    "%autoreload 2\n",
    "\n",
    "import warnings\n",
    "warnings.simplefilter(action='ignore', category=FutureWarning)\n",
    "\n",
    "import sys\n",
    "sys.path.append(\"/jet/prs/workspace/rxrx1-utils\")\n",
    "import rxrx.io as rio\n",
    "\n",
    "import facenet\n",
    "import numpy as np\n",
    "import tensorflow as tf\n",
    "import pandas as pd\n",
    "print(\"Tensorflow version: \", tf.__version__)\n",
    "print(\"Pandas version: \", pd.__version__)"
   ]
  },
  {
   "cell_type": "code",
   "execution_count": 2,
   "metadata": {},
   "outputs": [
    {
     "name": "stdout",
     "output_type": "stream",
     "text": [
      "Tensorflow session's devices: [_DeviceAttributes(/job:localhost/replica:0/task:0/device:CPU:0, CPU, 268435456, 4834679064646470596), _DeviceAttributes(/job:localhost/replica:0/task:0/device:XLA_GPU:0, XLA_GPU, 17179869184, 2605928751558562022), _DeviceAttributes(/job:localhost/replica:0/task:0/device:XLA_CPU:0, XLA_CPU, 17179869184, 5385313156482362026)]\n"
     ]
    }
   ],
   "source": [
    "gpu_options = tf.GPUOptions(per_process_gpu_memory_fraction=1.0)\n",
    "sess = tf.Session(config=tf.ConfigProto(gpu_options=gpu_options))\n",
    "print(\"Tensorflow session's devices:\", sess.list_devices())"
   ]
  },
  {
   "cell_type": "code",
   "execution_count": 3,
   "metadata": {},
   "outputs": [
    {
     "name": "stdout",
     "output_type": "stream",
     "text": [
      "Reading RXRX1 metadata...\n",
      "Metadata dataframe for TRAIN POSITIVE CONTROL wells shape: (1000, 8)\n",
      "Number of siRNA classes: 30\n",
      "Classes: 1108, 1109, 1110, 1111 etc.\n",
      "\n",
      "Stats on number of images per class per dataset:\n",
      "dataset      train\n",
      "count    30.000000\n",
      "mean     33.333333\n",
      "std       0.958927\n",
      "min      32.000000\n",
      "25%      32.000000\n",
      "50%      34.000000\n",
      "75%      34.000000\n",
      "max      34.000000 \n",
      "\n",
      "train dataset has 30 classes and 1000 images\n",
      "test dataset has 0 classes and 0.0 images\n",
      "\n",
      "\n"
     ]
    }
   ],
   "source": [
    "datasets = facenet.get_control_datasets(original_image_size=128)"
   ]
  },
  {
   "cell_type": "code",
   "execution_count": 4,
   "metadata": {},
   "outputs": [
    {
     "data": {
      "text/plain": [
       "['/jet/prs/workspace/data/rgb_128/train/HEPG2-01_1_H22_s1.jpg',\n",
       " '/jet/prs/workspace/data/rgb_128/train/HEPG2-01_1_H22_s2.jpg',\n",
       " '/jet/prs/workspace/data/rgb_128/train/HEPG2-01_2_H03_s1.jpg']"
      ]
     },
     "execution_count": 4,
     "metadata": {},
     "output_type": "execute_result"
    }
   ],
   "source": [
    "datasets[\"train\"][0].image_paths[:3]"
   ]
  },
  {
   "cell_type": "code",
   "execution_count": 5,
   "metadata": {},
   "outputs": [],
   "source": [
    "import train_tripletloss"
   ]
  },
  {
   "cell_type": "code",
   "execution_count": 20,
   "metadata": {},
   "outputs": [
    {
     "name": "stdout",
     "output_type": "stream",
     "text": [
      "Using models.inception_resnet_v1 backbone.\n",
      "Reading RXRX1 metadata...\n",
      "Metadata dataframe for TRAIN POSITIVE CONTROL wells shape: (7888, 8)\n",
      "Number of siRNA classes: 30\n",
      "Classes: 1108, 1109, 1110, 1111 etc.\n",
      "\n",
      "Stats on number of images per class per dataset:\n",
      "dataset       train\n",
      "count     30.000000\n",
      "mean     262.933333\n",
      "std        1.720732\n",
      "min      256.000000\n",
      "25%      262.000000\n",
      "50%      264.000000\n",
      "75%      264.000000\n",
      "max      264.000000 \n",
      "\n",
      "train dataset has 30 classes and 7888 images\n",
      "test dataset has 0 classes and 0.0 images\n",
      "\n",
      "\n",
      "Model directory: /jet/prs/workspace/models/facenet/20190730-131735\n",
      "Log directory: /jet/prs/workspace/logs/facenet/20190730-131735\n",
      "Reading RXRX1 metadata...\n",
      "Metadata dataframe for TEST POSITIVE CONTROL wells shape: (4306, 9)\n"
     ]
    },
    {
     "name": "stderr",
     "output_type": "stream",
     "text": [
      "/jet/prs/workspace/facenet/src/lfw.py:66: SettingWithCopyWarning: \n",
      "A value is trying to be set on a copy of a slice from a DataFrame.\n",
      "Try using .loc[row_indexer,col_indexer] = value instead\n",
      "\n",
      "See the caveats in the documentation: http://pandas.pydata.org/pandas-docs/stable/user_guide/indexing.html#returning-a-view-versus-a-copy\n",
      "  row[\"id_code\"], row[\"site\"]), axis=1)\n"
     ]
    },
    {
     "name": "stdout",
     "output_type": "stream",
     "text": [
      "Evaluating on 180 pairs.\n",
      "Creating placeholders...\n",
      "Building the inference graph...\n",
      "Start running operations on the Graph...\n",
      "Tensorflow session's devices: [_DeviceAttributes(/job:localhost/replica:0/task:0/device:CPU:0, CPU, 268435456, 1235528102276330880), _DeviceAttributes(/job:localhost/replica:0/task:0/device:XLA_GPU:0, XLA_GPU, 17179869184, 12606623149669522536), _DeviceAttributes(/job:localhost/replica:0/task:0/device:XLA_CPU:0, XLA_CPU, 17179869184, 11447683677775410500)]\n",
      "Running forward pass on sampled images: 12.225\n",
      "Selecting suitable triplets for training\n"
     ]
    },
    {
     "name": "stderr",
     "output_type": "stream",
     "text": [
      "/jet/prs/workspace/facenet/src/train_tripletloss.py:307: RuntimeWarning: invalid value encountered in less\n",
      "  all_neg = np.where(neg_dists_sqr-pos_dist_sqr<alpha)[0] # VGG Face selecction\n"
     ]
    },
    {
     "name": "stdout",
     "output_type": "stream",
     "text": [
      "(nrof_random_negs, nrof_triplets) = (13050, 13050): time=13.183 seconds\n",
      "Epoch: [0][1/1000]\tTime 25.223\tLoss 7.116\n",
      "Epoch: [0][2/1000]\tTime 9.927\tLoss 7.171\n",
      "Epoch: [0][3/1000]\tTime 9.946\tLoss 7.080\n",
      "Epoch: [0][4/1000]\tTime 9.944\tLoss 7.124\n",
      "Epoch: [0][5/1000]\tTime 9.841\tLoss 7.134\n",
      "Epoch: [0][6/1000]\tTime 9.909\tLoss 7.000\n",
      "Epoch: [0][7/1000]\tTime 9.848\tLoss 6.997\n",
      "Epoch: [0][8/1000]\tTime 9.777\tLoss 7.227\n",
      "Epoch: [0][9/1000]\tTime 9.706\tLoss 7.171\n",
      "Epoch: [0][10/1000]\tTime 9.714\tLoss 7.126\n",
      "Epoch: [0][11/1000]\tTime 9.681\tLoss 7.170\n",
      "Epoch: [0][12/1000]\tTime 9.780\tLoss 7.137\n",
      "Epoch: [0][13/1000]\tTime 9.868\tLoss 7.157\n",
      "Epoch: [0][14/1000]\tTime 9.764\tLoss 7.074\n",
      "Epoch: [0][15/1000]\tTime 9.771\tLoss 7.008\n",
      "Epoch: [0][16/1000]\tTime 9.895\tLoss 7.082\n",
      "Epoch: [0][17/1000]\tTime 9.766\tLoss 7.096\n",
      "Epoch: [0][18/1000]\tTime 9.769\tLoss 7.131\n",
      "Epoch: [0][19/1000]\tTime 10.012\tLoss 7.067\n",
      "Epoch: [0][20/1000]\tTime 10.011\tLoss 7.017\n",
      "Epoch: [0][21/1000]\tTime 9.910\tLoss 7.074\n",
      "Epoch: [0][22/1000]\tTime 9.768\tLoss 7.033\n",
      "Epoch: [0][23/1000]\tTime 9.731\tLoss 7.014\n",
      "Epoch: [0][24/1000]\tTime 9.853\tLoss 7.098\n",
      "Epoch: [0][25/1000]\tTime 9.772\tLoss 7.003\n",
      "Epoch: [0][26/1000]\tTime 9.689\tLoss 7.031\n",
      "Epoch: [0][27/1000]\tTime 9.770\tLoss 7.070\n",
      "Epoch: [0][28/1000]\tTime 9.620\tLoss 7.119\n",
      "Epoch: [0][29/1000]\tTime 9.637\tLoss 6.966\n",
      "Epoch: [0][30/1000]\tTime 9.694\tLoss 7.116\n",
      "Epoch: [0][31/1000]\tTime 9.858\tLoss 6.917\n",
      "Epoch: [0][32/1000]\tTime 9.708\tLoss 6.990\n",
      "Epoch: [0][33/1000]\tTime 9.651\tLoss 7.026\n",
      "Epoch: [0][34/1000]\tTime 9.676\tLoss 6.956\n",
      "Epoch: [0][35/1000]\tTime 9.660\tLoss 6.892\n",
      "Epoch: [0][36/1000]\tTime 9.727\tLoss 6.920\n",
      "Epoch: [0][37/1000]\tTime 9.708\tLoss 6.904\n",
      "Epoch: [0][38/1000]\tTime 9.708\tLoss 6.903\n",
      "Epoch: [0][39/1000]\tTime 9.673\tLoss 6.851\n",
      "Epoch: [0][40/1000]\tTime 9.837\tLoss 6.872\n",
      "Epoch: [0][41/1000]\tTime 9.798\tLoss 6.863\n",
      "Epoch: [0][42/1000]\tTime 9.784\tLoss 6.892\n",
      "Epoch: [0][43/1000]\tTime 9.657\tLoss 6.930\n",
      "Epoch: [0][44/1000]\tTime 9.755\tLoss 6.791\n",
      "Epoch: [0][45/1000]\tTime 9.824\tLoss 6.812\n",
      "Epoch: [0][46/1000]\tTime 9.778\tLoss 6.854\n",
      "Epoch: [0][47/1000]\tTime 9.785\tLoss 6.850\n",
      "Epoch: [0][48/1000]\tTime 9.565\tLoss 6.794\n",
      "Epoch: [0][49/1000]\tTime 9.669\tLoss 6.724\n",
      "Epoch: [0][50/1000]\tTime 9.809\tLoss 6.789\n",
      "Epoch: [0][51/1000]\tTime 9.999\tLoss 6.818\n",
      "Epoch: [0][52/1000]\tTime 9.943\tLoss 6.779\n",
      "Epoch: [0][53/1000]\tTime 9.631\tLoss 6.721\n",
      "Epoch: [0][54/1000]\tTime 9.745\tLoss 6.732\n",
      "Epoch: [0][55/1000]\tTime 9.800\tLoss 6.737\n",
      "Epoch: [0][56/1000]\tTime 9.734\tLoss 6.806\n",
      "Epoch: [0][57/1000]\tTime 9.654\tLoss 6.722\n",
      "Epoch: [0][58/1000]\tTime 9.875\tLoss 6.687\n",
      "Epoch: [0][59/1000]\tTime 9.661\tLoss 6.737\n",
      "Epoch: [0][60/1000]\tTime 9.586\tLoss 6.636\n",
      "Epoch: [0][61/1000]\tTime 9.737\tLoss 6.572\n",
      "Epoch: [0][62/1000]\tTime 9.828\tLoss 6.627\n",
      "Epoch: [0][63/1000]\tTime 9.863\tLoss 6.560\n",
      "Epoch: [0][64/1000]\tTime 9.810\tLoss 6.606\n",
      "Epoch: [0][65/1000]\tTime 9.758\tLoss 6.638\n",
      "Epoch: [0][66/1000]\tTime 9.804\tLoss 6.579\n",
      "Epoch: [0][67/1000]\tTime 9.658\tLoss 6.580\n",
      "Epoch: [0][68/1000]\tTime 9.690\tLoss 6.530\n",
      "Epoch: [0][69/1000]\tTime 9.604\tLoss 6.471\n",
      "Epoch: [0][70/1000]\tTime 9.618\tLoss 6.450\n",
      "Epoch: [0][71/1000]\tTime 9.714\tLoss 6.442\n",
      "Epoch: [0][72/1000]\tTime 9.662\tLoss 6.420\n",
      "Epoch: [0][73/1000]\tTime 9.632\tLoss 6.513\n",
      "Epoch: [0][74/1000]\tTime 9.662\tLoss 6.415\n",
      "Epoch: [0][75/1000]\tTime 9.637\tLoss 6.405\n",
      "Epoch: [0][76/1000]\tTime 9.690\tLoss 6.435\n",
      "Epoch: [0][77/1000]\tTime 9.698\tLoss 6.377\n",
      "Epoch: [0][78/1000]\tTime 9.684\tLoss 6.393\n",
      "Epoch: [0][79/1000]\tTime 9.619\tLoss 6.463\n",
      "Epoch: [0][80/1000]\tTime 9.616\tLoss 6.293\n",
      "Epoch: [0][81/1000]\tTime 9.700\tLoss 6.396\n",
      "Epoch: [0][82/1000]\tTime 9.559\tLoss 6.309\n",
      "Epoch: [0][83/1000]\tTime 10.021\tLoss 6.304\n",
      "Epoch: [0][84/1000]\tTime 9.923\tLoss 6.431\n",
      "Epoch: [0][85/1000]\tTime 9.699\tLoss 6.266\n",
      "Epoch: [0][86/1000]\tTime 9.664\tLoss 6.267\n",
      "Epoch: [0][87/1000]\tTime 9.746\tLoss 6.326\n",
      "Epoch: [0][88/1000]\tTime 9.647\tLoss 6.176\n",
      "Epoch: [0][89/1000]\tTime 9.790\tLoss 6.161\n",
      "Epoch: [0][90/1000]\tTime 9.648\tLoss 6.268\n",
      "Epoch: [0][91/1000]\tTime 9.498\tLoss 6.173\n",
      "Epoch: [0][92/1000]\tTime 9.519\tLoss 6.150\n",
      "Epoch: [0][93/1000]\tTime 9.732\tLoss 6.149\n",
      "Epoch: [0][94/1000]\tTime 9.721\tLoss 6.118\n",
      "Epoch: [0][95/1000]\tTime 9.641\tLoss 6.054\n",
      "Epoch: [0][96/1000]\tTime 9.578\tLoss 6.119\n",
      "Epoch: [0][97/1000]\tTime 9.637\tLoss 6.073\n",
      "Epoch: [0][98/1000]\tTime 9.702\tLoss 6.101\n",
      "Epoch: [0][99/1000]\tTime 9.733\tLoss 6.011\n",
      "Epoch: [0][100/1000]\tTime 9.639\tLoss 6.013\n",
      "Epoch: [0][101/1000]\tTime 9.676\tLoss 6.069\n",
      "Epoch: [0][102/1000]\tTime 9.711\tLoss 5.972\n",
      "Epoch: [0][103/1000]\tTime 9.594\tLoss 5.987\n",
      "Epoch: [0][104/1000]\tTime 9.581\tLoss 5.997\n",
      "Epoch: [0][105/1000]\tTime 9.572\tLoss 5.977\n",
      "Epoch: [0][106/1000]\tTime 9.584\tLoss 6.010\n",
      "Epoch: [0][107/1000]\tTime 9.709\tLoss 5.928\n",
      "Epoch: [0][108/1000]\tTime 9.736\tLoss 5.909\n",
      "Epoch: [0][109/1000]\tTime 9.617\tLoss 5.893\n",
      "Epoch: [0][110/1000]\tTime 9.629\tLoss 5.819\n",
      "Epoch: [0][111/1000]\tTime 9.634\tLoss 5.757\n",
      "Epoch: [0][112/1000]\tTime 9.645\tLoss 5.872\n",
      "Epoch: [0][113/1000]\tTime 9.536\tLoss 5.773\n",
      "Epoch: [0][114/1000]\tTime 9.503\tLoss 5.761\n",
      "Epoch: [0][115/1000]\tTime 9.870\tLoss 5.713\n",
      "Epoch: [0][116/1000]\tTime 9.988\tLoss 5.741\n",
      "Epoch: [0][117/1000]\tTime 9.668\tLoss 5.819\n",
      "Epoch: [0][118/1000]\tTime 9.648\tLoss 5.717\n",
      "Epoch: [0][119/1000]\tTime 9.519\tLoss 5.712\n",
      "Epoch: [0][120/1000]\tTime 9.583\tLoss 5.701\n",
      "Epoch: [0][121/1000]\tTime 9.551\tLoss 5.705\n",
      "Epoch: [0][122/1000]\tTime 9.536\tLoss 5.714\n",
      "Epoch: [0][123/1000]\tTime 9.584\tLoss 5.582\n",
      "Epoch: [0][124/1000]\tTime 9.547\tLoss 5.635\n"
     ]
    },
    {
     "ename": "KeyboardInterrupt",
     "evalue": "",
     "output_type": "error",
     "traceback": [
      "\u001b[0;31m---------------------------------------------------------------------------\u001b[0m",
      "\u001b[0;31mKeyboardInterrupt\u001b[0m                         Traceback (most recent call last)",
      "\u001b[0;32m<ipython-input-20-de88a5a3fb8f>\u001b[0m in \u001b[0;36m<module>\u001b[0;34m()\u001b[0m\n\u001b[1;32m     20\u001b[0m        ]\n\u001b[1;32m     21\u001b[0m \u001b[0;34m\u001b[0m\u001b[0m\n\u001b[0;32m---> 22\u001b[0;31m \u001b[0mtrain_tripletloss\u001b[0m\u001b[0;34m.\u001b[0m\u001b[0mmain\u001b[0m\u001b[0;34m(\u001b[0m\u001b[0mtrain_tripletloss\u001b[0m\u001b[0;34m.\u001b[0m\u001b[0mparse_arguments\u001b[0m\u001b[0;34m(\u001b[0m\u001b[0margv\u001b[0m\u001b[0;34m)\u001b[0m\u001b[0;34m)\u001b[0m\u001b[0;34m\u001b[0m\u001b[0m\n\u001b[0m",
      "\u001b[0;32m/jet/prs/workspace/facenet/src/train_tripletloss.py\u001b[0m in \u001b[0;36mmain\u001b[0;34m(args)\u001b[0m\n\u001b[1;32m    194\u001b[0m                     \u001b[0minput_queue\u001b[0m\u001b[0;34m,\u001b[0m \u001b[0mglobal_step\u001b[0m\u001b[0;34m,\u001b[0m\u001b[0;34m\u001b[0m\u001b[0m\n\u001b[1;32m    195\u001b[0m                     \u001b[0membeddings\u001b[0m\u001b[0;34m,\u001b[0m \u001b[0mtotal_loss\u001b[0m\u001b[0;34m,\u001b[0m \u001b[0mtrain_op\u001b[0m\u001b[0;34m,\u001b[0m \u001b[0msummary_op\u001b[0m\u001b[0;34m,\u001b[0m \u001b[0msummary_writer\u001b[0m\u001b[0;34m,\u001b[0m \u001b[0margs\u001b[0m\u001b[0;34m.\u001b[0m\u001b[0mlearning_rate_schedule_file\u001b[0m\u001b[0;34m,\u001b[0m\u001b[0;34m\u001b[0m\u001b[0m\n\u001b[0;32m--> 196\u001b[0;31m                     args.embedding_size, anchor, positive, negative, triplet_loss)\n\u001b[0m\u001b[1;32m    197\u001b[0m \u001b[0;34m\u001b[0m\u001b[0m\n\u001b[1;32m    198\u001b[0m                 \u001b[0;31m# Save variables and the metagraph if it doesn't exist already\u001b[0m\u001b[0;34m\u001b[0m\u001b[0;34m\u001b[0m\u001b[0m\n",
      "\u001b[0;32m/jet/prs/workspace/facenet/src/train_tripletloss.py\u001b[0m in \u001b[0;36mtrain\u001b[0;34m(args, sess, dataset, epoch, image_paths_placeholder, labels_placeholder, labels_batch, batch_size_placeholder, learning_rate_placeholder, phase_train_placeholder, enqueue_op, input_queue, global_step, embeddings, loss, train_op, summary_op, summary_writer, learning_rate_schedule_file, embedding_size, anchor, positive, negative, triplet_loss)\u001b[0m\n\u001b[1;32m    263\u001b[0m             \u001b[0mbatch_size\u001b[0m \u001b[0;34m=\u001b[0m \u001b[0mmin\u001b[0m\u001b[0;34m(\u001b[0m\u001b[0mnrof_examples\u001b[0m\u001b[0;34m-\u001b[0m\u001b[0mi\u001b[0m\u001b[0;34m*\u001b[0m\u001b[0margs\u001b[0m\u001b[0;34m.\u001b[0m\u001b[0mbatch_size\u001b[0m\u001b[0;34m,\u001b[0m \u001b[0margs\u001b[0m\u001b[0;34m.\u001b[0m\u001b[0mbatch_size\u001b[0m\u001b[0;34m)\u001b[0m\u001b[0;34m\u001b[0m\u001b[0m\n\u001b[1;32m    264\u001b[0m             \u001b[0mfeed_dict\u001b[0m \u001b[0;34m=\u001b[0m \u001b[0;34m{\u001b[0m\u001b[0mbatch_size_placeholder\u001b[0m\u001b[0;34m:\u001b[0m \u001b[0mbatch_size\u001b[0m\u001b[0;34m,\u001b[0m \u001b[0mlearning_rate_placeholder\u001b[0m\u001b[0;34m:\u001b[0m \u001b[0mlr\u001b[0m\u001b[0;34m,\u001b[0m \u001b[0mphase_train_placeholder\u001b[0m\u001b[0;34m:\u001b[0m \u001b[0;32mTrue\u001b[0m\u001b[0;34m}\u001b[0m\u001b[0;34m\u001b[0m\u001b[0m\n\u001b[0;32m--> 265\u001b[0;31m             \u001b[0merr\u001b[0m\u001b[0;34m,\u001b[0m \u001b[0m_\u001b[0m\u001b[0;34m,\u001b[0m \u001b[0mstep\u001b[0m\u001b[0;34m,\u001b[0m \u001b[0memb\u001b[0m\u001b[0;34m,\u001b[0m \u001b[0mlab\u001b[0m \u001b[0;34m=\u001b[0m \u001b[0msess\u001b[0m\u001b[0;34m.\u001b[0m\u001b[0mrun\u001b[0m\u001b[0;34m(\u001b[0m\u001b[0;34m[\u001b[0m\u001b[0mloss\u001b[0m\u001b[0;34m,\u001b[0m \u001b[0mtrain_op\u001b[0m\u001b[0;34m,\u001b[0m \u001b[0mglobal_step\u001b[0m\u001b[0;34m,\u001b[0m \u001b[0membeddings\u001b[0m\u001b[0;34m,\u001b[0m \u001b[0mlabels_batch\u001b[0m\u001b[0;34m]\u001b[0m\u001b[0;34m,\u001b[0m \u001b[0mfeed_dict\u001b[0m\u001b[0;34m=\u001b[0m\u001b[0mfeed_dict\u001b[0m\u001b[0;34m)\u001b[0m\u001b[0;34m\u001b[0m\u001b[0m\n\u001b[0m\u001b[1;32m    266\u001b[0m             \u001b[0memb_array\u001b[0m\u001b[0;34m[\u001b[0m\u001b[0mlab\u001b[0m\u001b[0;34m,\u001b[0m\u001b[0;34m:\u001b[0m\u001b[0;34m]\u001b[0m \u001b[0;34m=\u001b[0m \u001b[0memb\u001b[0m\u001b[0;34m\u001b[0m\u001b[0m\n\u001b[1;32m    267\u001b[0m             \u001b[0mloss_array\u001b[0m\u001b[0;34m[\u001b[0m\u001b[0mi\u001b[0m\u001b[0;34m]\u001b[0m \u001b[0;34m=\u001b[0m \u001b[0merr\u001b[0m\u001b[0;34m\u001b[0m\u001b[0m\n",
      "\u001b[0;32m/jet/var/python/lib/python3.6/site-packages/tensorflow/python/client/session.py\u001b[0m in \u001b[0;36mrun\u001b[0;34m(self, fetches, feed_dict, options, run_metadata)\u001b[0m\n\u001b[1;32m    948\u001b[0m     \u001b[0;32mtry\u001b[0m\u001b[0;34m:\u001b[0m\u001b[0;34m\u001b[0m\u001b[0m\n\u001b[1;32m    949\u001b[0m       result = self._run(None, fetches, feed_dict, options_ptr,\n\u001b[0;32m--> 950\u001b[0;31m                          run_metadata_ptr)\n\u001b[0m\u001b[1;32m    951\u001b[0m       \u001b[0;32mif\u001b[0m \u001b[0mrun_metadata\u001b[0m\u001b[0;34m:\u001b[0m\u001b[0;34m\u001b[0m\u001b[0m\n\u001b[1;32m    952\u001b[0m         \u001b[0mproto_data\u001b[0m \u001b[0;34m=\u001b[0m \u001b[0mtf_session\u001b[0m\u001b[0;34m.\u001b[0m\u001b[0mTF_GetBuffer\u001b[0m\u001b[0;34m(\u001b[0m\u001b[0mrun_metadata_ptr\u001b[0m\u001b[0;34m)\u001b[0m\u001b[0;34m\u001b[0m\u001b[0m\n",
      "\u001b[0;32m/jet/var/python/lib/python3.6/site-packages/tensorflow/python/client/session.py\u001b[0m in \u001b[0;36m_run\u001b[0;34m(self, handle, fetches, feed_dict, options, run_metadata)\u001b[0m\n\u001b[1;32m   1171\u001b[0m     \u001b[0;32mif\u001b[0m \u001b[0mfinal_fetches\u001b[0m \u001b[0;32mor\u001b[0m \u001b[0mfinal_targets\u001b[0m \u001b[0;32mor\u001b[0m \u001b[0;34m(\u001b[0m\u001b[0mhandle\u001b[0m \u001b[0;32mand\u001b[0m \u001b[0mfeed_dict_tensor\u001b[0m\u001b[0;34m)\u001b[0m\u001b[0;34m:\u001b[0m\u001b[0;34m\u001b[0m\u001b[0m\n\u001b[1;32m   1172\u001b[0m       results = self._do_run(handle, final_targets, final_fetches,\n\u001b[0;32m-> 1173\u001b[0;31m                              feed_dict_tensor, options, run_metadata)\n\u001b[0m\u001b[1;32m   1174\u001b[0m     \u001b[0;32melse\u001b[0m\u001b[0;34m:\u001b[0m\u001b[0;34m\u001b[0m\u001b[0m\n\u001b[1;32m   1175\u001b[0m       \u001b[0mresults\u001b[0m \u001b[0;34m=\u001b[0m \u001b[0;34m[\u001b[0m\u001b[0;34m]\u001b[0m\u001b[0;34m\u001b[0m\u001b[0m\n",
      "\u001b[0;32m/jet/var/python/lib/python3.6/site-packages/tensorflow/python/client/session.py\u001b[0m in \u001b[0;36m_do_run\u001b[0;34m(self, handle, target_list, fetch_list, feed_dict, options, run_metadata)\u001b[0m\n\u001b[1;32m   1348\u001b[0m     \u001b[0;32mif\u001b[0m \u001b[0mhandle\u001b[0m \u001b[0;32mis\u001b[0m \u001b[0;32mNone\u001b[0m\u001b[0;34m:\u001b[0m\u001b[0;34m\u001b[0m\u001b[0m\n\u001b[1;32m   1349\u001b[0m       return self._do_call(_run_fn, feeds, fetches, targets, options,\n\u001b[0;32m-> 1350\u001b[0;31m                            run_metadata)\n\u001b[0m\u001b[1;32m   1351\u001b[0m     \u001b[0;32melse\u001b[0m\u001b[0;34m:\u001b[0m\u001b[0;34m\u001b[0m\u001b[0m\n\u001b[1;32m   1352\u001b[0m       \u001b[0;32mreturn\u001b[0m \u001b[0mself\u001b[0m\u001b[0;34m.\u001b[0m\u001b[0m_do_call\u001b[0m\u001b[0;34m(\u001b[0m\u001b[0m_prun_fn\u001b[0m\u001b[0;34m,\u001b[0m \u001b[0mhandle\u001b[0m\u001b[0;34m,\u001b[0m \u001b[0mfeeds\u001b[0m\u001b[0;34m,\u001b[0m \u001b[0mfetches\u001b[0m\u001b[0;34m)\u001b[0m\u001b[0;34m\u001b[0m\u001b[0m\n",
      "\u001b[0;32m/jet/var/python/lib/python3.6/site-packages/tensorflow/python/client/session.py\u001b[0m in \u001b[0;36m_do_call\u001b[0;34m(self, fn, *args)\u001b[0m\n\u001b[1;32m   1354\u001b[0m   \u001b[0;32mdef\u001b[0m \u001b[0m_do_call\u001b[0m\u001b[0;34m(\u001b[0m\u001b[0mself\u001b[0m\u001b[0;34m,\u001b[0m \u001b[0mfn\u001b[0m\u001b[0;34m,\u001b[0m \u001b[0;34m*\u001b[0m\u001b[0margs\u001b[0m\u001b[0;34m)\u001b[0m\u001b[0;34m:\u001b[0m\u001b[0;34m\u001b[0m\u001b[0m\n\u001b[1;32m   1355\u001b[0m     \u001b[0;32mtry\u001b[0m\u001b[0;34m:\u001b[0m\u001b[0;34m\u001b[0m\u001b[0m\n\u001b[0;32m-> 1356\u001b[0;31m       \u001b[0;32mreturn\u001b[0m \u001b[0mfn\u001b[0m\u001b[0;34m(\u001b[0m\u001b[0;34m*\u001b[0m\u001b[0margs\u001b[0m\u001b[0;34m)\u001b[0m\u001b[0;34m\u001b[0m\u001b[0m\n\u001b[0m\u001b[1;32m   1357\u001b[0m     \u001b[0;32mexcept\u001b[0m \u001b[0merrors\u001b[0m\u001b[0;34m.\u001b[0m\u001b[0mOpError\u001b[0m \u001b[0;32mas\u001b[0m \u001b[0me\u001b[0m\u001b[0;34m:\u001b[0m\u001b[0;34m\u001b[0m\u001b[0m\n\u001b[1;32m   1358\u001b[0m       \u001b[0mmessage\u001b[0m \u001b[0;34m=\u001b[0m \u001b[0mcompat\u001b[0m\u001b[0;34m.\u001b[0m\u001b[0mas_text\u001b[0m\u001b[0;34m(\u001b[0m\u001b[0me\u001b[0m\u001b[0;34m.\u001b[0m\u001b[0mmessage\u001b[0m\u001b[0;34m)\u001b[0m\u001b[0;34m\u001b[0m\u001b[0m\n",
      "\u001b[0;32m/jet/var/python/lib/python3.6/site-packages/tensorflow/python/client/session.py\u001b[0m in \u001b[0;36m_run_fn\u001b[0;34m(feed_dict, fetch_list, target_list, options, run_metadata)\u001b[0m\n\u001b[1;32m   1339\u001b[0m       \u001b[0mself\u001b[0m\u001b[0;34m.\u001b[0m\u001b[0m_extend_graph\u001b[0m\u001b[0;34m(\u001b[0m\u001b[0;34m)\u001b[0m\u001b[0;34m\u001b[0m\u001b[0m\n\u001b[1;32m   1340\u001b[0m       return self._call_tf_sessionrun(\n\u001b[0;32m-> 1341\u001b[0;31m           options, feed_dict, fetch_list, target_list, run_metadata)\n\u001b[0m\u001b[1;32m   1342\u001b[0m \u001b[0;34m\u001b[0m\u001b[0m\n\u001b[1;32m   1343\u001b[0m     \u001b[0;32mdef\u001b[0m \u001b[0m_prun_fn\u001b[0m\u001b[0;34m(\u001b[0m\u001b[0mhandle\u001b[0m\u001b[0;34m,\u001b[0m \u001b[0mfeed_dict\u001b[0m\u001b[0;34m,\u001b[0m \u001b[0mfetch_list\u001b[0m\u001b[0;34m)\u001b[0m\u001b[0;34m:\u001b[0m\u001b[0;34m\u001b[0m\u001b[0m\n",
      "\u001b[0;32m/jet/var/python/lib/python3.6/site-packages/tensorflow/python/client/session.py\u001b[0m in \u001b[0;36m_call_tf_sessionrun\u001b[0;34m(self, options, feed_dict, fetch_list, target_list, run_metadata)\u001b[0m\n\u001b[1;32m   1427\u001b[0m     return tf_session.TF_SessionRun_wrapper(\n\u001b[1;32m   1428\u001b[0m         \u001b[0mself\u001b[0m\u001b[0;34m.\u001b[0m\u001b[0m_session\u001b[0m\u001b[0;34m,\u001b[0m \u001b[0moptions\u001b[0m\u001b[0;34m,\u001b[0m \u001b[0mfeed_dict\u001b[0m\u001b[0;34m,\u001b[0m \u001b[0mfetch_list\u001b[0m\u001b[0;34m,\u001b[0m \u001b[0mtarget_list\u001b[0m\u001b[0;34m,\u001b[0m\u001b[0;34m\u001b[0m\u001b[0m\n\u001b[0;32m-> 1429\u001b[0;31m         run_metadata)\n\u001b[0m\u001b[1;32m   1430\u001b[0m \u001b[0;34m\u001b[0m\u001b[0m\n\u001b[1;32m   1431\u001b[0m   \u001b[0;32mdef\u001b[0m \u001b[0m_call_tf_sessionprun\u001b[0m\u001b[0;34m(\u001b[0m\u001b[0mself\u001b[0m\u001b[0;34m,\u001b[0m \u001b[0mhandle\u001b[0m\u001b[0;34m,\u001b[0m \u001b[0mfeed_dict\u001b[0m\u001b[0;34m,\u001b[0m \u001b[0mfetch_list\u001b[0m\u001b[0;34m)\u001b[0m\u001b[0;34m:\u001b[0m\u001b[0;34m\u001b[0m\u001b[0m\n",
      "\u001b[0;31mKeyboardInterrupt\u001b[0m: "
     ]
    }
   ],
   "source": [
    "argv = [\"--logs_base_dir\", \"/jet/prs/workspace/logs/facenet\", \n",
    "        \"--models_base_dir\", \"/jet/prs/workspace/models/facenet/\",\n",
    "        \"--image_size\", \"128\",\n",
    "        \"--original_image_size\", \"256\",\n",
    "        \"--model_def\", \"models.inception_resnet_v1\",\n",
    "        \"--optimizer\", \"ADAM\",\n",
    "        \"--learning_rate\", \"1.\",\n",
    "        \"--learning_rate_decay_epochs\", \"1\",\n",
    "        \"--learning_rate_decay_factor\", \"0.98\",\n",
    "        \"--max_nrof_epochs\", \"30\",\n",
    "        \"--batch_size\", \"180\",\n",
    "        \"--people_per_batch\", \"30\",\n",
    "        \"--images_per_person\", \"30\",\n",
    "        \"--epoch_size\", \"1000\",\n",
    "        \"--keep_probability\", \"0.8\",\n",
    "        \"--random_crop\",\n",
    "        \"--random_flip\",\n",
    "        \"--weight_decay\", \"5e-4\",\n",
    "        \"--embedding_size\", \"128\",\n",
    "       ]\n",
    "\n",
    "train_tripletloss.main(train_tripletloss.parse_arguments(argv))"
   ]
  },
  {
   "cell_type": "code",
   "execution_count": null,
   "metadata": {},
   "outputs": [],
   "source": []
  },
  {
   "cell_type": "code",
   "execution_count": null,
   "metadata": {},
   "outputs": [],
   "source": []
  },
  {
   "cell_type": "code",
   "execution_count": null,
   "metadata": {},
   "outputs": [],
   "source": []
  },
  {
   "cell_type": "code",
   "execution_count": null,
   "metadata": {},
   "outputs": [],
   "source": []
  }
 ],
 "metadata": {
  "kernelspec": {
   "display_name": "Python 3",
   "language": "python",
   "name": "python3"
  },
  "language_info": {
   "codemirror_mode": {
    "name": "ipython",
    "version": 3
   },
   "file_extension": ".py",
   "mimetype": "text/x-python",
   "name": "python",
   "nbconvert_exporter": "python",
   "pygments_lexer": "ipython3",
   "version": "3.6.3"
  }
 },
 "nbformat": 4,
 "nbformat_minor": 2
}
